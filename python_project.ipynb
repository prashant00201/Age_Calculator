def calculate_livingtime(age, time_data):

    days_in_year = 365.25
    hours_in_day = 24
    minutes_in_hour = 60
    seconds_in_minute = 60
    months_in_year = 12
    weeks_in_year = 52.1775


    total_days = age * days_in_year

    if time_data in ['months', 'm']:

        result = age * months_in_year
        return f"You lived for {result:.0f} Month{'s' if result != 1 else ''}"

    elif time_data in ['weeks', 'w']:

        result = age * weeks_in_year
        return f"You lived for {result:.0f} Week{'s' if result != 1 else ''}"

    elif time_data in ['days', 'd']:

        return f"You lived for {total_days:.0f} Day{'s' if total_days != 1 else ''}"

    elif time_data in ['hours', 'h']:

        result = total_days * hours_in_day
        return f"You lived for {result:.0f} Hour{'s' if result != 1 else ''}"

    elif time_data in ['minutes', 'min', 'm']:

        result = total_days * hours_in_day * minutes_in_hour
        return f"You lived for {result:.0f} Minute{'s' if result != 1 else ''}"

    elif time_data in ['seconds', 'sec', 's']:

        result = total_days * hours_in_day * minutes_in_hour * seconds_in_minute
        return f"You lived for {result:.0f} Second{'s' if result != 1 else ''}"

    else:
        return "Invalid time_data unit."

def main():

    age = int(input("What's your age? "))
    time_data = input("Please choose time_data unit: Months, Weeks, Days, Hours, Minutes, Seconds.\nNote: You can write the first letter or the full name of the time_data unit. ").strip().lower()

    result = calculate_livingtime(age, time_data)
    print(result)

if __name__ == "__main__":
    main()
